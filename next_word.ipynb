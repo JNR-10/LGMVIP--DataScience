{
  "nbformat": 4,
  "nbformat_minor": 0,
  "metadata": {
    "colab": {
      "provenance": []
    },
    "kernelspec": {
      "name": "python3",
      "display_name": "Python 3"
    },
    "language_info": {
      "name": "python"
    }
  },
  "cells": [
    {
      "cell_type": "code",
      "execution_count": 5,
      "metadata": {
        "id": "o0QVmfZ0Cr2A"
      },
      "outputs": [],
      "source": [
        "import numpy as np\n",
        "from nltk.tokenize import RegexpTokenizer\n",
        "from keras.models import Sequential, load_model\n",
        "from keras.layers import LSTM\n",
        "from keras.layers.core import Dense, Activation\n",
        "from keras.optimizers import RMSprop\n",
        "import matplotlib.pyplot as plt\n",
        "import pickle\n",
        "import heapq"
      ]
    },
    {
      "cell_type": "code",
      "source": [
        "path = '1661-0.txt'\n",
        "text = open(path).read().lower()\n",
        "print('corpus length:', len(text))"
      ],
      "metadata": {
        "colab": {
          "base_uri": "https://localhost:8080/"
        },
        "id": "_q7X2n1MCzdR",
        "outputId": "c0f7758d-632d-4cb3-983f-f97eee415132"
      },
      "execution_count": 8,
      "outputs": [
        {
          "output_type": "stream",
          "name": "stdout",
          "text": [
            "corpus length: 581888\n"
          ]
        }
      ]
    },
    {
      "cell_type": "code",
      "source": [
        "tokenizer = RegexpTokenizer(r'w+')\n",
        "words = tokenizer.tokenize(text)"
      ],
      "metadata": {
        "id": "-DVdYTP1Fzgo"
      },
      "execution_count": 9,
      "outputs": []
    },
    {
      "cell_type": "code",
      "source": [
        "unique_words = np.unique(words)\n",
        "unique_word_index = dict((c, i) for i, c in enumerate(unique_words))"
      ],
      "metadata": {
        "id": "toOqsO2tF30d"
      },
      "execution_count": 10,
      "outputs": []
    },
    {
      "cell_type": "code",
      "source": [
        "# Feature Engineering\n",
        "\n",
        "WORD_LENGTH = 5\n",
        "prev_words = []\n",
        "next_words = []\n",
        "for i in range(len(words) - WORD_LENGTH):\n",
        "    prev_words.append(words[i:i + WORD_LENGTH])\n",
        "    next_words.append(words[i + WORD_LENGTH])\n",
        "print(prev_words[0])\n",
        "print(next_words[0])"
      ],
      "metadata": {
        "colab": {
          "base_uri": "https://localhost:8080/"
        },
        "id": "dsk0ZTHHF7pf",
        "outputId": "a245411b-7f13-4d81-bfd5-636a93c97c65"
      },
      "execution_count": 12,
      "outputs": [
        {
          "output_type": "stream",
          "name": "stdout",
          "text": [
            "['w', 'w', 'w', 'w', 'w']\n",
            "www\n"
          ]
        }
      ]
    },
    {
      "cell_type": "code",
      "source": [
        "X = np.zeros((len(prev_words), WORD_LENGTH, len(unique_words)), dtype=bool)\n",
        "Y = np.zeros((len(next_words), len(unique_words)), dtype=bool)\n",
        "for i, each_words in enumerate(prev_words):\n",
        "    for j, each_word in enumerate(each_words):\n",
        "        X[i, j, unique_word_index[each_word]] = 1\n",
        "    Y[i, unique_word_index[next_words[i]]] = 1"
      ],
      "metadata": {
        "id": "E-khiesgGDxN"
      },
      "execution_count": 13,
      "outputs": []
    },
    {
      "cell_type": "code",
      "source": [
        "print(X[0][0])"
      ],
      "metadata": {
        "colab": {
          "base_uri": "https://localhost:8080/"
        },
        "id": "PkEYpM1cGWR_",
        "outputId": "d6cf9b54-46de-4e67-ca86-20f7cd2b3c89"
      },
      "execution_count": 14,
      "outputs": [
        {
          "output_type": "stream",
          "name": "stdout",
          "text": [
            "[ True False]\n"
          ]
        }
      ]
    },
    {
      "cell_type": "code",
      "source": [
        "#Building Recurrent Neural Network\n",
        "\n",
        "model = Sequential()\n",
        "model.add(LSTM(128, input_shape=(WORD_LENGTH, len(unique_words))))\n",
        "model.add(Dense(len(unique_words)))\n",
        "model.add(Activation('softmax'))"
      ],
      "metadata": {
        "id": "05U7TsOMGd3i"
      },
      "execution_count": 15,
      "outputs": []
    },
    {
      "cell_type": "code",
      "source": [
        "# Training the Next Word Prediction Model\n",
        "\n",
        "optimizer = RMSprop(lr=0.01)\n",
        "model.compile(loss='categorical_crossentropy', optimizer=optimizer, metrics=['accuracy'])\n",
        "history = model.fit(X, Y, validation_split=0.05, batch_size=128, epochs=20, shuffle=True).history"
      ],
      "metadata": {
        "colab": {
          "base_uri": "https://localhost:8080/"
        },
        "id": "r3zpRF9VGw7D",
        "outputId": "057c0465-ae63-4e9a-f473-d81d5dd7359b"
      },
      "execution_count": 17,
      "outputs": [
        {
          "output_type": "stream",
          "name": "stdout",
          "text": [
            "Epoch 1/20\n",
            "86/86 [==============================] - 4s 25ms/step - loss: 0.0027 - accuracy: 0.9999 - val_loss: 0.2585 - val_accuracy: 0.9844\n",
            "Epoch 2/20\n",
            "86/86 [==============================] - 2s 18ms/step - loss: 0.0020 - accuracy: 0.9999 - val_loss: 0.2420 - val_accuracy: 0.9844\n",
            "Epoch 3/20\n",
            "86/86 [==============================] - 2s 19ms/step - loss: 0.0014 - accuracy: 0.9999 - val_loss: 0.2050 - val_accuracy: 0.9844\n",
            "Epoch 4/20\n",
            "86/86 [==============================] - 2s 19ms/step - loss: 0.0017 - accuracy: 0.9999 - val_loss: 0.2084 - val_accuracy: 0.9844\n",
            "Epoch 5/20\n",
            "86/86 [==============================] - 3s 33ms/step - loss: 0.0014 - accuracy: 0.9999 - val_loss: 0.2044 - val_accuracy: 0.9844\n",
            "Epoch 6/20\n",
            "86/86 [==============================] - 2s 21ms/step - loss: 0.0016 - accuracy: 0.9999 - val_loss: 0.1741 - val_accuracy: 0.9844\n",
            "Epoch 7/20\n",
            "86/86 [==============================] - 2s 19ms/step - loss: 0.0011 - accuracy: 0.9999 - val_loss: 0.2475 - val_accuracy: 0.9844\n",
            "Epoch 8/20\n",
            "86/86 [==============================] - 2s 18ms/step - loss: 0.0016 - accuracy: 0.9999 - val_loss: 0.2099 - val_accuracy: 0.9844\n",
            "Epoch 9/20\n",
            "86/86 [==============================] - 2s 19ms/step - loss: 0.0014 - accuracy: 0.9999 - val_loss: 0.2059 - val_accuracy: 0.9844\n",
            "Epoch 10/20\n",
            "86/86 [==============================] - 2s 18ms/step - loss: 0.0015 - accuracy: 0.9999 - val_loss: 0.1638 - val_accuracy: 0.9844\n",
            "Epoch 11/20\n",
            "86/86 [==============================] - 2s 18ms/step - loss: 0.0012 - accuracy: 0.9999 - val_loss: 0.1858 - val_accuracy: 0.9844\n",
            "Epoch 12/20\n",
            "86/86 [==============================] - 2s 28ms/step - loss: 0.0012 - accuracy: 0.9999 - val_loss: 0.2156 - val_accuracy: 0.9844\n",
            "Epoch 13/20\n",
            "86/86 [==============================] - 2s 24ms/step - loss: 0.0014 - accuracy: 0.9999 - val_loss: 0.1971 - val_accuracy: 0.9844\n",
            "Epoch 14/20\n",
            "86/86 [==============================] - 2s 18ms/step - loss: 0.0015 - accuracy: 0.9999 - val_loss: 0.1802 - val_accuracy: 0.9844\n",
            "Epoch 15/20\n",
            "86/86 [==============================] - 2s 19ms/step - loss: 0.0013 - accuracy: 0.9999 - val_loss: 0.1724 - val_accuracy: 0.9844\n",
            "Epoch 16/20\n",
            "86/86 [==============================] - 2s 18ms/step - loss: 0.0013 - accuracy: 0.9999 - val_loss: 0.2009 - val_accuracy: 0.9844\n",
            "Epoch 17/20\n",
            "86/86 [==============================] - 2s 19ms/step - loss: 0.0013 - accuracy: 0.9999 - val_loss: 0.2264 - val_accuracy: 0.9844\n",
            "Epoch 18/20\n",
            "86/86 [==============================] - 2s 19ms/step - loss: 0.0014 - accuracy: 0.9999 - val_loss: 0.2270 - val_accuracy: 0.9844\n",
            "Epoch 19/20\n",
            "86/86 [==============================] - 2s 24ms/step - loss: 0.0014 - accuracy: 0.9999 - val_loss: 0.2448 - val_accuracy: 0.9844\n",
            "Epoch 20/20\n",
            "86/86 [==============================] - 2s 28ms/step - loss: 0.0016 - accuracy: 0.9999 - val_loss: 0.1580 - val_accuracy: 0.9844\n"
          ]
        }
      ]
    },
    {
      "cell_type": "code",
      "source": [
        "model.save('keras_next_word_model.h5')\n",
        "pickle.dump(history, open(\"history.p\", \"wb\"))\n",
        "model = load_model('keras_next_word_model.h5')\n",
        "history = pickle.load(open(\"history.p\", \"rb\"))"
      ],
      "metadata": {
        "id": "IELQ9FHlG3uY"
      },
      "execution_count": 19,
      "outputs": []
    },
    {
      "cell_type": "code",
      "source": [
        "plt.plot(history['accuracy'])\n",
        "plt.plot(history['val_accuracy'])\n",
        "plt.title('model accuracy')\n",
        "plt.ylabel('accuracy')\n",
        "plt.xlabel('epoch')\n",
        "plt.legend(['train', 'test'], loc='upper left')"
      ],
      "metadata": {
        "colab": {
          "base_uri": "https://localhost:8080/",
          "height": 489
        },
        "id": "2NC6-XckHSqk",
        "outputId": "5eb5c8e9-0e62-4b23-ea8d-0ce69b37c028"
      },
      "execution_count": 21,
      "outputs": [
        {
          "output_type": "execute_result",
          "data": {
            "text/plain": [
              "<matplotlib.legend.Legend at 0x7f5e619a4880>"
            ]
          },
          "metadata": {},
          "execution_count": 21
        },
        {
          "output_type": "display_data",
          "data": {
            "text/plain": [
              "<Figure size 640x480 with 1 Axes>"
            ],
            "image/png": "[encoded data removed]"
          },
          "metadata": {}
        }
      ]
    },
    {
      "cell_type": "code",
      "source": [
        "plt.plot(history['loss'])\n",
        "plt.plot(history['val_loss'])\n",
        "plt.title('model loss')\n",
        "plt.ylabel('loss')\n",
        "plt.xlabel('epoch')\n",
        "plt.legend(['train', 'test'], loc='upper left')"
      ],
      "metadata": {
        "colab": {
          "base_uri": "https://localhost:8080/",
          "height": 489
        },
        "id": "lVV2DbzCHmQ5",
        "outputId": "39e3c42e-dc38-4385-8655-e67d8d56502e"
      },
      "execution_count": 22,
      "outputs": [
        {
          "output_type": "execute_result",
          "data": {
            "text/plain": [
              "<matplotlib.legend.Legend at 0x7f5e61aac880>"
            ]
          },
          "metadata": {},
          "execution_count": 22
        },
        {
          "output_type": "display_data",
          "data": {
            "text/plain": [
              "<Figure size 640x480 with 1 Axes>"
            ],
            "image/png": "[encoded data removed]"
          },
          "metadata": {}
        }
      ]
    },
    {
      "cell_type": "code",
      "source": [
        "# Testing Next Word Prediction Model\n",
        "\n",
        "def prepare_input(text):\n",
        "    x = np.zeros((1, WORD_LENGTH, len(unique_words)))\n",
        "    for t, word in enumerate(text.split()):\n",
        "        if word in unique_word_index:\n",
        "            x[0, t, unique_word_index[word]] = 1\n",
        "    return x"
      ],
      "metadata": {
        "id": "-OqD7Z1wH-1m"
      },
      "execution_count": 40,
      "outputs": []
    },
    {
      "cell_type": "code",
      "source": [
        "def sample(preds, top_n=3):\n",
        "    preds = np.asarray(preds).astype('float64')\n",
        "    preds = np.log(preds)\n",
        "    exp_preds = np.exp(preds)\n",
        "    preds = exp_preds / np.sum(exp_preds)\n",
        "\n",
        "    return heapq.nlargest(top_n, range(len(preds)), preds.take)"
      ],
      "metadata": {
        "id": "ZUakS7q9IMj8"
      },
      "execution_count": 41,
      "outputs": []
    },
    {
      "cell_type": "code",
      "source": [
        "def predict_completion(text, indices_char):\n",
        "    original_text = text\n",
        "    generated = text\n",
        "    completion = ''\n",
        "    while True:\n",
        "        x = prepare_input(text)\n",
        "        preds = model.predict(x, verbose=0)[0]\n",
        "        next_index = sample(preds, top_n=1)[0]\n",
        "        next_char = indices_char[next_index]\n",
        "        text = text[1:] + next_char\n",
        "        completion += next_char\n",
        "\n",
        "        if len(original_text + completion) + 2 > len(original_text) and next_char == ' ':\n",
        "            return completion"
      ],
      "metadata": {
        "id": "qKZ20mZvKUcL"
      },
      "execution_count": 42,
      "outputs": []
    },
    {
      "cell_type": "code",
      "source": [
        "def predict_completions(text, n=3, indices_char=None):\n",
        "    if indices_char is None:\n",
        "        raise ValueError(\"indices_char dictionary is not provided.\")\n",
        "    x = prepare_input(text)\n",
        "    preds = model.predict(x, verbose=0)[0]\n",
        "    next_indices = sample(preds, n)\n",
        "    return [indices_char[idx] + predict_completion(text[1:] + indices_char[idx], indices_char) for idx in next_indices]"
      ],
      "metadata": {
        "id": "8EFXUc2QKXbJ"
      },
      "execution_count": 43,
      "outputs": []
    },
    {
      "cell_type": "code",
      "source": [
        "quotes = [\n",
        "    \"It is not a lack of love, but a lack of friendship that makes unhappy marriages.\",\n",
        "    \"That which does not kill us makes us stronger.\",\n",
        "    \"I'm not upset that you lied to me, I'm upset that from now on I can't believe you.\",\n",
        "    \"And those who were seen dancing were thought to be insane by those who could not hear the music.\",\n",
        "    \"It is hard enough to remember my opinions, without also remembering my reasons for them!\"\n",
        "]"
      ],
      "metadata": {
        "id": "2rpLM7GWKbVI"
      },
      "execution_count": 44,
      "outputs": []
    },
    {
      "cell_type": "code",
      "source": [
        "indices_char = {i: chr(ord('a') + i) for i in range(27)}"
      ],
      "metadata": {
        "id": "ivIv3Kt_KiCl"
      },
      "execution_count": 46,
      "outputs": []
    },
    {
      "cell_type": "code",
      "source": [
        "for q in quotes:\n",
        "    seq = q[:40].lower()\n",
        "    print(seq)\n",
        "    print(predict_completions(seq, 5, indices_char))\n",
        "    print()"
      ],
      "metadata": {
        "id": "9NmB0-QgNs_b"
      },
      "execution_count": null,
      "outputs": []
    },
    {
      "cell_type": "code",
      "source": [],
      "metadata": {
        "id": "3Oh9ep4QNvtx"
      },
      "execution_count": null,
      "outputs": []
    }
  ]
}